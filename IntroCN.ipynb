{
 "cells": [
  {
   "cell_type": "code",
   "execution_count": 5,
   "metadata": {},
   "outputs": [],
   "source": [
    "import networkx as nx\n",
    "import pandas as pd\n",
    "import numpy as np\n",
    "import collections\n",
    "import seaborn as sns\n",
    "import matplotlib.pyplot as plt\n",
    "from operator import itemgetter\n",
    "%matplotlib inline"
   ]
  },
  {
   "cell_type": "code",
   "execution_count": 6,
   "metadata": {},
   "outputs": [],
   "source": [
    "G = nx.read_edgelist(\"/Users/cazabetremy/ownCloud/cours/BSS/airportData.edges\")"
   ]
  },
  {
   "cell_type": "markdown",
   "metadata": {},
   "source": [
    "## Display basic information on our graph"
   ]
  },
  {
   "cell_type": "code",
   "execution_count": 7,
   "metadata": {},
   "outputs": [
    {
     "name": "stdout",
     "output_type": "stream",
     "text": [
      "#nodes:  3618\n",
      "#edges:  14142\n",
      "#avg. clustering: 0.4957489312349579\n",
      "#Global clustering coefficient: 0.24345387322110054\n"
     ]
    }
   ],
   "source": [
    "print(\"#nodes: \",len(G.nodes()))\n",
    "print(\"#edges: \",len(G.edges()))\n",
    "print(\"#avg. clustering:\",nx.average_clustering(G))\n",
    "print(\"#Global clustering coefficient:\",nx.transitivity(G))"
   ]
  },
  {
   "cell_type": "markdown",
   "metadata": {},
   "source": [
    "## Display the degree distribution"
   ]
  },
  {
   "cell_type": "code",
   "execution_count": 31,
   "metadata": {},
   "outputs": [
    {
     "data": {
      "image/png": "[encoded data removed]",
      "text/plain": [
       "<matplotlib.figure.Figure at 0x1a23d802b0>"
      ]
     },
     "metadata": {},
     "output_type": "display_data"
    }
   ],
   "source": [
    "degree_sequence = sorted([d for n, d in G.degree()], reverse=True)\n",
    "sns.distplot(degree_sequence, kde=False, rug=False);"
   ]
  },
  {
   "cell_type": "markdown",
   "metadata": {},
   "source": [
    "## Show it is Power-Law-ish"
   ]
  },
  {
   "cell_type": "code",
   "execution_count": 47,
   "metadata": {},
   "outputs": [
    {
     "data": {
      "text/plain": [
       "<matplotlib.axes._subplots.AxesSubplot at 0x1a24d6ca20>"
      ]
     },
     "execution_count": 47,
     "metadata": {},
     "output_type": "execute_result"
    },
    {
     "data": {
      "image/png": "[encoded data removed]",
      "text/plain": [
       "<matplotlib.figure.Figure at 0x1a254d22e8>"
      ]
     },
     "metadata": {},
     "output_type": "display_data"
    }
   ],
   "source": [
    "degreeCount = collections.Counter(degree_sequence)\n",
    "deg, cnt = zip(*degreeCount.items())\n",
    "deg = np.array(list(deg))\n",
    "cnt = np.array(list(cnt))\n",
    "f, ax = plt.subplots(figsize=(7, 7))\n",
    "ax.set(xscale=\"log\", yscale=\"log\")\n",
    "sns.regplot(deg,cnt,fit_reg=False)"
   ]
  },
  {
   "cell_type": "code",
   "execution_count": null,
   "metadata": {},
   "outputs": [],
   "source": [
    "## Checking top nodes for some centralities"
   ]
  },
  {
   "cell_type": "code",
   "execution_count": 61,
   "metadata": {},
   "outputs": [
    {
     "data": {
      "text/plain": [
       "[('PAR_Paris', 250),\n",
       " ('LON_London_(GB)', 242),\n",
       " ('FRA_Frankfurt', 237),\n",
       " ('AMS_Amsterdam', 192),\n",
       " ('MOW_Moscow', 186)]"
      ]
     },
     "execution_count": 61,
     "metadata": {},
     "output_type": "execute_result"
    }
   ],
   "source": [
    "TopDegree = nx.degree(G)\n",
    "TopDegree = sorted(TopDegree,key=itemgetter(1),reverse=True)[:5]\n",
    "TopDegree"
   ]
  },
  {
   "cell_type": "code",
   "execution_count": 70,
   "metadata": {},
   "outputs": [
    {
     "data": {
      "text/plain": [
       "[('LON_London_(GB)', 0.3793790644010908),\n",
       " ('FRA_Frankfurt', 0.3727328936521022),\n",
       " ('PAR_Paris', 0.37196626902509256),\n",
       " ('NYC_New_York', 0.36911929788753955),\n",
       " ('LAX_Los_Angeles_(US)', 0.36601902448896984)]"
      ]
     },
     "execution_count": 70,
     "metadata": {},
     "output_type": "execute_result"
    }
   ],
   "source": [
    "CL = nx.closeness_centrality(G)\n",
    "CL = sorted([(n,k) for n,k in CL.items()],key=itemgetter(1),reverse=True)[:5]\n",
    "CL"
   ]
  },
  {
   "cell_type": "code",
   "execution_count": 71,
   "metadata": {},
   "outputs": [
    {
     "data": {
      "text/plain": [
       "[('STO_Stockholm', 0.0977064270940121),\n",
       " ('POM_Port_Moresby', 0.09678466939541307),\n",
       " ('BNE_Brisbane', 0.08598645896097656),\n",
       " ('LON_London_(GB)', 0.08477366915242945),\n",
       " ('NYC_New_York', 0.07814966705367178)]"
      ]
     },
     "execution_count": 71,
     "metadata": {},
     "output_type": "execute_result"
    }
   ],
   "source": [
    "BTW = nx.approximate_current_flow_betweenness_centrality(G)\n",
    "BTW = sorted([(n,k) for n,k in BTW.items()],key=itemgetter(1),reverse=True)[:5]\n",
    "BTW"
   ]
  },
  {
   "cell_type": "code",
   "execution_count": 72,
   "metadata": {},
   "outputs": [
    {
     "data": {
      "text/plain": [
       "[('PAR_Paris', 0.006091685099332755),\n",
       " ('LON_London_(GB)', 0.005214842369222961),\n",
       " ('MOW_Moscow', 0.005073820025859378),\n",
       " ('FRA_Frankfurt', 0.004918817232278328),\n",
       " ('CHI_Chicago', 0.004019310137484229)]"
      ]
     },
     "execution_count": 72,
     "metadata": {},
     "output_type": "execute_result"
    }
   ],
   "source": [
    "PageRank = nx.pagerank(G)\n",
    "PageRank = sorted([(n,k) for n,k in PageRank.items()],key=itemgetter(1),reverse=True)[:5]\n",
    "PageRank"
   ]
  },
  {
   "cell_type": "code",
   "execution_count": null,
   "metadata": {},
   "outputs": [],
   "source": [
    "// Be carefull, very slow...\n",
    "//Commu = nx.communicability_betweenness_centrality(G)\n",
    "//Commu = sorted([(n,k) for n,k in Commu.items()],key=itemgetter(1),reverse=True)[:5]\n",
    "//Commu"
   ]
  },
  {
   "cell_type": "code",
   "execution_count": 77,
   "metadata": {},
   "outputs": [
    {
     "data": {
      "text/plain": [
       "[(('SIN_Singapore', 'POM_Port_Moresby'), 0.0009882918194761576),\n",
       " (('CPH_Copenhagen', 'SFJ_Kangerlussuaq'), 0.000630684248458424),\n",
       " (('BNE_Brisbane', 'HIR_Honiara'), 0.000588025798301214),\n",
       " (('NAN_Nadi', 'SUV_Suva'), 0.0005634202058543802),\n",
       " (('NYC_New_York', 'ANC_Anchorage'), 0.0004727585236464859)]"
      ]
     },
     "execution_count": 77,
     "metadata": {},
     "output_type": "execute_result"
    }
   ],
   "source": [
    "nedge = nx.edge_betweenness_centrality(G,k=100)\n",
    "nedge = sorted([(n,k) for n,k in nedge.items()],key=itemgetter(1),reverse=True)[:5]\n",
    "nedge"
   ]
  },
  {
   "cell_type": "code",
   "execution_count": 8,
   "metadata": {},
   "outputs": [
    {
     "data": {
      "text/plain": [
       "[(('LAX_Los_Angeles_(US)', 'CAN_Guangzhou'), 0.006049433853319695),\n",
       " (('LON_London_(GB)', 'RDU_Raleigh/Durham'), 0.005783641712707275),\n",
       " (('MNL_Manila', 'FRA_Frankfurt'), 0.0057517331542906785),\n",
       " (('FLL_Fort_Lauderdale', 'FRA_Frankfurt'), 0.005491200486339993),\n",
       " (('PHX_Phoenix', 'LON_London_(GB)'), 0.005406912262319476)]"
      ]
     },
     "execution_count": 8,
     "metadata": {},
     "output_type": "execute_result"
    }
   ],
   "source": [
    "smallNodes = [n for (n,v) in nx.degree(G) if v<50]\n",
    "G.remove_nodes_from(smallNodes)\n",
    "nedge = nx.edge_betweenness_centrality(G,k=100)\n",
    "nedge = sorted([(n,k) for n,k in nedge.items()],key=itemgetter(1),reverse=True)[:5]\n",
    "nedge"
   ]
  },
  {
   "cell_type": "code",
   "execution_count": null,
   "metadata": {},
   "outputs": [],
   "source": []
  }
 ],
 "metadata": {
  "kernelspec": {
   "display_name": "Python 3",
   "language": "python",
   "name": "python3"
  },
  "language_info": {
   "codemirror_mode": {
    "name": "ipython",
    "version": 3
   },
   "file_extension": ".py",
   "mimetype": "text/x-python",
   "name": "python",
   "nbconvert_exporter": "python",
   "pygments_lexer": "ipython3",
   "version": "3.6.3"
  }
 },
 "nbformat": 4,
 "nbformat_minor": 2
}
